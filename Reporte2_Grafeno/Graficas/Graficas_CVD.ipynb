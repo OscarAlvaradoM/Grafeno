{
 "cells": [
  {
   "cell_type": "markdown",
   "metadata": {},
   "source": [
    "# Graficas para la síntesis de grafeno sobre placas de cobre y Paladio."
   ]
  },
  {
   "cell_type": "code",
   "execution_count": 1,
   "metadata": {},
   "outputs": [],
   "source": [
    "using Plots"
   ]
  },
  {
   "cell_type": "code",
   "execution_count": 2,
   "metadata": {},
   "outputs": [
    {
     "data": {
      "text/plain": [
       "Plots.GRBackend()"
      ]
     },
     "execution_count": 2,
     "metadata": {},
     "output_type": "execute_result"
    }
   ],
   "source": [
    "gr(size=(1000,500))"
   ]
  },
  {
   "cell_type": "markdown",
   "metadata": {},
   "source": [
    "## Cobre"
   ]
  },
  {
   "cell_type": "code",
   "execution_count": 8,
   "metadata": {},
   "outputs": [],
   "source": [
    "x = [0, 30, 50, 70, 100]\n",
    "y = [0, 600, 600, 1020, 1020]\n",
    "\n",
    "a = 100:0.1:135\n",
    "y_a = (a .- 132) .^ 2\n",
    "\n",
    "X = [x,a]\n",
    "Y = [y,y_a]\n",
    "Gr_Cu = plot(X, Y, leg = false, \n",
    "    xlabel = \"Tiempo [minutos]\", \n",
    "    ylabel = \"Temperatura[°C]\", \n",
    "    xlim = [0,125], \n",
    "    ylims = [0,1150], \n",
    "    xticks = 0:10:120, \n",
    "    yticks = 0:60:1150, \n",
    "    title = \"Grafeno sobre Cobre\",\n",
    "    linewidth = [6,6],\n",
    "    lc = [RGB(113/255,175/255,165/255) RGB(230/255, 50/255, 61/255)],\n",
    "    bg = RGB(29/255, 39/255, 74/255),\n",
    "    titlefont = font(\"Dosis\", 20, color = RGB(255/255,241/255,98/255)),\n",
    "    tickfont = font(10, \"Dosis\", color = RGB(255/255,241/255,98/255)),\n",
    "    guidefont = font(15, \"Dosis\", color = RGB(255/255,241/255,98/255)))\n",
    "\n",
    "plot!([80,80,100,100], [0,1020,1020,0], fill = true, color = :orange , linewidth = [1,7])\n",
    "annotate!([(90, 850, text(\"M\", 20, :black, :center)), (90, 725, text(\"E\", 20, :black, :center)), \n",
    "        (90, 600, text(\"T\", 20, :black,:center)), (90, 475, text(\"A\", 20, :black, :center)),\n",
    "        (90, 350, text(\"N\", 20, :black,:center)), (90, 225, text(\"O\", 20, :black, :center))])\n",
    "\n",
    "savefig(Gr_Cu,\"/home/oscar/Dropbox/Grafeno/Congreso/Grafeno_Cobre.png\")"
   ]
  },
  {
   "cell_type": "markdown",
   "metadata": {},
   "source": [
    "## Paladio"
   ]
  },
  {
   "cell_type": "code",
   "execution_count": 7,
   "metadata": {},
   "outputs": [],
   "source": [
    "x = [0, 60, 90]\n",
    "y = [0, 950, 950]\n",
    "\n",
    "a = 90:0.1:120\n",
    "y_a = (a .- 120.9) .^ 2\n",
    "\n",
    "X = [x,a]\n",
    "Y = [y,y_a]\n",
    "Gr_Pd = plot(X, Y, leg = false, \n",
    "    xlabel = \"Tiempo [minutos]\", \n",
    "    ylabel = \"Temperatura[°C]\", \n",
    "    xlim = [0,125], \n",
    "    ylims = [0,1000], \n",
    "    xticks = 0:10:120, \n",
    "    yticks = 50:100:1000, \n",
    "    title = \"Grafeno sobre Paladio\",\n",
    "    linewidth = [6,6],\n",
    "    lc = [RGB(113/255,175/255,165/255) RGB(230/255, 50/255, 61/255)],\n",
    "    bg = RGB(29/255, 39/255, 74/255),\n",
    "    titlefont = font(\"Dosis\", 20, color = RGB(255/255,241/255,98/255)),\n",
    "    tickfont = font(10, \"Dosis\", color = RGB(255/255,241/255,98/255)),\n",
    "    guidefont = font(15, \"Dosis\", color = RGB(255/255,241/255,98/255)))\n",
    "\n",
    "plot!([80,80,90,90], [0,950,950,0], fill = true, color = :orange , linewidth = [1,7])\n",
    "annotate!([(85,750,text(\"M\",16,:black,:center)), \n",
    "        (85,650,text(\"E\",16,:black,:center)), \n",
    "        (85,550,text(\"T\",16,:black,:center)), \n",
    "        (85,450,text(\"A\",16,:black,:center)),\n",
    "        (85,350,text(\"N\",16,:black,:center)), \n",
    "        (85,250,text(\"O\",16,:black,:center))])\n",
    "\n",
    "savefig(Gr_Pd,\"/home/oscar/Dropbox/Grafeno/Congreso/Grafeno_Paladio.png\")"
   ]
  },
  {
   "cell_type": "code",
   "execution_count": null,
   "metadata": {},
   "outputs": [],
   "source": []
  }
 ],
 "metadata": {
  "kernelspec": {
   "display_name": "Julia 1.0.2",
   "language": "julia",
   "name": "julia-1.0"
  },
  "language_info": {
   "file_extension": ".jl",
   "mimetype": "application/julia",
   "name": "julia",
   "version": "1.0.2"
  }
 },
 "nbformat": 4,
 "nbformat_minor": 2
}
