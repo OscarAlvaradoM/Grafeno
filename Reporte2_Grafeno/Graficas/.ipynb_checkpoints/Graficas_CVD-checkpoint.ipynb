{
 "cells": [
  {
   "cell_type": "markdown",
   "metadata": {},
   "source": [
    "# Graficas para la síntesis de grafeno sobre placas de cobre y Paladio."
   ]
  },
  {
   "cell_type": "code",
   "execution_count": 1,
   "metadata": {},
   "outputs": [
    {
     "name": "stderr",
     "output_type": "stream",
     "text": [
      "┌ Info: Precompiling Plots [91a5bcdd-55d7-5caf-9e0b-520d859cae80]\n",
      "└ @ Base loading.jl:1242\n"
     ]
    }
   ],
   "source": [
    "using Plots"
   ]
  },
  {
   "cell_type": "code",
   "execution_count": 2,
   "metadata": {},
   "outputs": [
    {
     "data": {
      "text/plain": [
       "Plots.GRBackend()"
      ]
     },
     "execution_count": 2,
     "metadata": {},
     "output_type": "execute_result"
    }
   ],
   "source": [
    "gr()"
   ]
  },
  {
   "cell_type": "code",
   "execution_count": 46,
   "metadata": {},
   "outputs": [],
   "source": [
    "x = [0, 30, 50, 70, 100]\n",
    "y = [0, 600, 600, 1020, 1020]\n",
    "\n",
    "a = 100:0.1:135\n",
    "y_a = (a .- 132) .^ 2\n",
    "\n",
    "X = [x,a]\n",
    "Y = [y,y_a]\n",
    "Gr_Cu = plot(X, Y, leg = false, \n",
    "    xlabel = \"Tiempo [minutos]\", \n",
    "    ylabel = \"Temperatura[°C]\", \n",
    "    xlim = [0,125], \n",
    "    ylims = [0,1150], \n",
    "    xticks = 0:10:120, \n",
    "    yticks = 0:60:1150, \n",
    "    title = \"Grafeno sobre Cobre\")\n",
    "plot!([80,80,100,100], [0,1020,1020,0], fill = true)\n",
    "annotate!([(90, 850, text(\"M\", 20, :black, :center)), (90, 725, text(\"E\", 20, :black, :center)), \n",
    "        (90, 600, text(\"T\", 20, :black,:center)), (90, 475, text(\"A\", 20, :black, :center)),\n",
    "        (90, 350, text(\"N\", 20, :black,:center)), (90, 225, text(\"O\", 20, :black, :center))])\n",
    "\n",
    "savefig(Gr_Cu,\"Grafeno_Cobre.png\")"
   ]
  },
  {
   "cell_type": "code",
   "execution_count": 47,
   "metadata": {},
   "outputs": [],
   "source": [
    "x = [0, 60, 90]\n",
    "y = [0, 950, 950]\n",
    "\n",
    "a = 90:0.1:120\n",
    "y_a = (a .- 120.9) .^ 2\n",
    "\n",
    "X = [x,a]\n",
    "Y = [y,y_a]\n",
    "Gr_Pd = plot(X, Y, leg = false, \n",
    "    xlabel = \"Tiempo [minutos]\", \n",
    "    ylabel = \"Temperatura[°C]\", \n",
    "    xlim = [0,125], \n",
    "    ylims = [0,1000], \n",
    "    xticks = 0:10:120, \n",
    "    yticks = 50:100:1000, \n",
    "    title = \"Grafeno sobre Paladio\")\n",
    "plot!([80,80,90,90], [0,950,950,0], fill = true)\n",
    "annotate!([(85,750,text(\"M\",16,:black,:center)), \n",
    "        (85,650,text(\"E\",16,:black,:center)), \n",
    "        (85,550,text(\"T\",16,:black,:center)), \n",
    "        (85,450,text(\"A\",16,:black,:center)),\n",
    "        (85,350,text(\"N\",16,:black,:center)), \n",
    "        (85,250,text(\"O\",16,:black,:center))])\n",
    "\n",
    "savefig(Gr_Pd,\"Grafeno_Paladio.png\")"
   ]
  },
  {
   "cell_type": "code",
   "execution_count": null,
   "metadata": {},
   "outputs": [],
   "source": []
  }
 ],
 "metadata": {
  "kernelspec": {
   "display_name": "Julia 1.2.0",
   "language": "julia",
   "name": "julia-1.2"
  },
  "language_info": {
   "file_extension": ".jl",
   "mimetype": "application/julia",
   "name": "julia",
   "version": "1.2.0"
  }
 },
 "nbformat": 4,
 "nbformat_minor": 2
}
